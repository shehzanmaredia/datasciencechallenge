{
 "cells": [
  {
   "cell_type": "code",
   "execution_count": 16,
   "metadata": {},
   "outputs": [],
   "source": [
    "import pandas as pd\n",
    "from apyori import apriori\n",
    "ordersdata = pd.read_csv(\"/Users/macbookpro/Documents/ds_intern_coding_challenge/orders.csv\")\n",
    "ordersdatacopy = pd.read_csv(\"/Users/macbookpro/Documents/ds_intern_coding_challenge/orders.csv\")\n",
    "ordersdata1 = pd.read_csv(\"/Users/macbookpro/Documents/ds_intern_coding_challenge/order_lines.csv\")\n",
    "ordersdata1copy = pd.read_csv(\"/Users/macbookpro/Documents/ds_intern_coding_challenge/order_lines.csv\")\n",
    "productsdata = pd.read_csv(\"/Users/macbookpro/Documents/ds_intern_coding_challenge/products.csv\")\n",
    "\n"
   ]
  },
  {
   "cell_type": "code",
   "execution_count": 17,
   "metadata": {},
   "outputs": [
    {
     "data": {
      "text/html": [
       "<div>\n",
       "<style scoped>\n",
       "    .dataframe tbody tr th:only-of-type {\n",
       "        vertical-align: middle;\n",
       "    }\n",
       "\n",
       "    .dataframe tbody tr th {\n",
       "        vertical-align: top;\n",
       "    }\n",
       "\n",
       "    .dataframe thead th {\n",
       "        text-align: right;\n",
       "    }\n",
       "</style>\n",
       "<table border=\"1\" class=\"dataframe\">\n",
       "  <thead>\n",
       "    <tr style=\"text-align: right;\">\n",
       "      <th></th>\n",
       "      <th>order_id</th>\n",
       "      <th>metro_id</th>\n",
       "      <th>store_id</th>\n",
       "      <th>customer_id</th>\n",
       "      <th>created_at</th>\n",
       "    </tr>\n",
       "  </thead>\n",
       "  <tbody>\n",
       "    <tr>\n",
       "      <th>0</th>\n",
       "      <td>13571562</td>\n",
       "      <td>1</td>\n",
       "      <td>1</td>\n",
       "      <td>792079</td>\n",
       "      <td>2019-01-02 23:40:32.385831</td>\n",
       "    </tr>\n",
       "    <tr>\n",
       "      <th>1</th>\n",
       "      <td>13655794</td>\n",
       "      <td>1</td>\n",
       "      <td>1</td>\n",
       "      <td>1903795</td>\n",
       "      <td>2019-01-05 20:11:05.570093</td>\n",
       "    </tr>\n",
       "    <tr>\n",
       "      <th>2</th>\n",
       "      <td>14123099</td>\n",
       "      <td>1</td>\n",
       "      <td>1</td>\n",
       "      <td>127956</td>\n",
       "      <td>2019-01-19 19:57:43.865203</td>\n",
       "    </tr>\n",
       "    <tr>\n",
       "      <th>3</th>\n",
       "      <td>14420509</td>\n",
       "      <td>1</td>\n",
       "      <td>1</td>\n",
       "      <td>1012340</td>\n",
       "      <td>2019-01-27 22:26:18.602900</td>\n",
       "    </tr>\n",
       "    <tr>\n",
       "      <th>4</th>\n",
       "      <td>14208064</td>\n",
       "      <td>20</td>\n",
       "      <td>1</td>\n",
       "      <td>93594</td>\n",
       "      <td>2019-01-21 21:46:26.607809</td>\n",
       "    </tr>\n",
       "  </tbody>\n",
       "</table>\n",
       "</div>"
      ],
      "text/plain": [
       "   order_id  metro_id  store_id  customer_id                  created_at\n",
       "0  13571562         1         1       792079  2019-01-02 23:40:32.385831\n",
       "1  13655794         1         1      1903795  2019-01-05 20:11:05.570093\n",
       "2  14123099         1         1       127956  2019-01-19 19:57:43.865203\n",
       "3  14420509         1         1      1012340  2019-01-27 22:26:18.602900\n",
       "4  14208064        20         1        93594  2019-01-21 21:46:26.607809"
      ]
     },
     "execution_count": 17,
     "metadata": {},
     "output_type": "execute_result"
    }
   ],
   "source": [
    "ordersdata.head()"
   ]
  },
  {
   "cell_type": "code",
   "execution_count": 18,
   "metadata": {},
   "outputs": [
    {
     "data": {
      "text/html": [
       "<div>\n",
       "<style scoped>\n",
       "    .dataframe tbody tr th:only-of-type {\n",
       "        vertical-align: middle;\n",
       "    }\n",
       "\n",
       "    .dataframe tbody tr th {\n",
       "        vertical-align: top;\n",
       "    }\n",
       "\n",
       "    .dataframe thead th {\n",
       "        text-align: right;\n",
       "    }\n",
       "</style>\n",
       "<table border=\"1\" class=\"dataframe\">\n",
       "  <thead>\n",
       "    <tr style=\"text-align: right;\">\n",
       "      <th></th>\n",
       "      <th>order_id</th>\n",
       "      <th>product_id</th>\n",
       "    </tr>\n",
       "  </thead>\n",
       "  <tbody>\n",
       "    <tr>\n",
       "      <th>0</th>\n",
       "      <td>13571562</td>\n",
       "      <td>10519</td>\n",
       "    </tr>\n",
       "    <tr>\n",
       "      <th>1</th>\n",
       "      <td>13571562</td>\n",
       "      <td>16492</td>\n",
       "    </tr>\n",
       "    <tr>\n",
       "      <th>2</th>\n",
       "      <td>13571562</td>\n",
       "      <td>8438</td>\n",
       "    </tr>\n",
       "    <tr>\n",
       "      <th>3</th>\n",
       "      <td>13571562</td>\n",
       "      <td>24082</td>\n",
       "    </tr>\n",
       "    <tr>\n",
       "      <th>4</th>\n",
       "      <td>13571562</td>\n",
       "      <td>11086</td>\n",
       "    </tr>\n",
       "  </tbody>\n",
       "</table>\n",
       "</div>"
      ],
      "text/plain": [
       "   order_id  product_id\n",
       "0  13571562       10519\n",
       "1  13571562       16492\n",
       "2  13571562        8438\n",
       "3  13571562       24082\n",
       "4  13571562       11086"
      ]
     },
     "execution_count": 18,
     "metadata": {},
     "output_type": "execute_result"
    }
   ],
   "source": [
    "ordersdata1.head()"
   ]
  },
  {
   "cell_type": "code",
   "execution_count": 19,
   "metadata": {},
   "outputs": [
    {
     "data": {
      "text/plain": [
       "0         13571562\n",
       "1         13571562\n",
       "2         13571562\n",
       "3         13571562\n",
       "4         13571562\n",
       "            ...   \n",
       "301047    14442540\n",
       "301048    14442540\n",
       "301049    14442540\n",
       "301050    14442540\n",
       "301051    14442540\n",
       "Name: order_id, Length: 301052, dtype: int64"
      ]
     },
     "execution_count": 19,
     "metadata": {},
     "output_type": "execute_result"
    }
   ],
   "source": [
    "ordersdata1[\"order_id\"]"
   ]
  },
  {
   "cell_type": "code",
   "execution_count": 20,
   "metadata": {},
   "outputs": [],
   "source": [
    "#data understanding question 1 code to join two datasets\n",
    "ordersdata1 = ordersdata1.dropna(axis=1)\n",
    "merged = ordersdata.merge(ordersdata1, on='order_id')\n",
    "merged.to_csv(\"question1.csv\", index=False)"
   ]
  },
  {
   "cell_type": "code",
   "execution_count": 32,
   "metadata": {},
   "outputs": [],
   "source": [
    "#data understanding question 2\n",
    "comb = ordersdatacopy['order_id'].isin(ordersdata1copy['order_id'])\n",
    "ordersdatacopy.drop(ordersdatacopy[comb].index, inplace = True)\n",
    "#creates new csv for question 2 with only order ids in orders.csv \n",
    "ordersdatacopy.to_csv(\"question2.csv\", index=False)"
   ]
  },
  {
   "cell_type": "code",
   "execution_count": 39,
   "metadata": {},
   "outputs": [
    {
     "name": "stderr",
     "output_type": "stream",
     "text": [
      "/opt/anaconda3/lib/python3.7/site-packages/ipykernel_launcher.py:1: UserWarning: Boolean Series key will be reindexed to match DataFrame index.\n",
      "  \"\"\"Entry point for launching an IPython kernel.\n"
     ]
    },
    {
     "ename": "IndexingError",
     "evalue": "Unalignable boolean Series provided as indexer (index of the boolean Series and of the indexed object do not match).",
     "output_type": "error",
     "traceback": [
      "\u001b[0;31m---------------------------------------------------------------------------\u001b[0m",
      "\u001b[0;31mIndexingError\u001b[0m                             Traceback (most recent call last)",
      "\u001b[0;32m<ipython-input-39-8d3082df871b>\u001b[0m in \u001b[0;36m<module>\u001b[0;34m\u001b[0m\n\u001b[0;32m----> 1\u001b[0;31m \u001b[0mprint\u001b[0m\u001b[0;34m(\u001b[0m\u001b[0mordersdata1copy\u001b[0m\u001b[0;34m[\u001b[0m\u001b[0mcomb\u001b[0m\u001b[0;34m]\u001b[0m\u001b[0;34m)\u001b[0m\u001b[0;34m\u001b[0m\u001b[0;34m\u001b[0m\u001b[0m\n\u001b[0m",
      "\u001b[0;32m/opt/anaconda3/lib/python3.7/site-packages/pandas/core/frame.py\u001b[0m in \u001b[0;36m__getitem__\u001b[0;34m(self, key)\u001b[0m\n\u001b[1;32m   2984\u001b[0m         \u001b[0;31m# Do we have a (boolean) 1d indexer?\u001b[0m\u001b[0;34m\u001b[0m\u001b[0;34m\u001b[0m\u001b[0;34m\u001b[0m\u001b[0m\n\u001b[1;32m   2985\u001b[0m         \u001b[0;32mif\u001b[0m \u001b[0mcom\u001b[0m\u001b[0;34m.\u001b[0m\u001b[0mis_bool_indexer\u001b[0m\u001b[0;34m(\u001b[0m\u001b[0mkey\u001b[0m\u001b[0;34m)\u001b[0m\u001b[0;34m:\u001b[0m\u001b[0;34m\u001b[0m\u001b[0;34m\u001b[0m\u001b[0m\n\u001b[0;32m-> 2986\u001b[0;31m             \u001b[0;32mreturn\u001b[0m \u001b[0mself\u001b[0m\u001b[0;34m.\u001b[0m\u001b[0m_getitem_bool_array\u001b[0m\u001b[0;34m(\u001b[0m\u001b[0mkey\u001b[0m\u001b[0;34m)\u001b[0m\u001b[0;34m\u001b[0m\u001b[0;34m\u001b[0m\u001b[0m\n\u001b[0m\u001b[1;32m   2987\u001b[0m \u001b[0;34m\u001b[0m\u001b[0m\n\u001b[1;32m   2988\u001b[0m         \u001b[0;31m# We are left with two options: a single key, and a collection of keys,\u001b[0m\u001b[0;34m\u001b[0m\u001b[0;34m\u001b[0m\u001b[0;34m\u001b[0m\u001b[0m\n",
      "\u001b[0;32m/opt/anaconda3/lib/python3.7/site-packages/pandas/core/frame.py\u001b[0m in \u001b[0;36m_getitem_bool_array\u001b[0;34m(self, key)\u001b[0m\n\u001b[1;32m   3036\u001b[0m         \u001b[0;31m# check_bool_indexer will throw exception if Series key cannot\u001b[0m\u001b[0;34m\u001b[0m\u001b[0;34m\u001b[0m\u001b[0;34m\u001b[0m\u001b[0m\n\u001b[1;32m   3037\u001b[0m         \u001b[0;31m# be reindexed to match DataFrame rows\u001b[0m\u001b[0;34m\u001b[0m\u001b[0;34m\u001b[0m\u001b[0;34m\u001b[0m\u001b[0m\n\u001b[0;32m-> 3038\u001b[0;31m         \u001b[0mkey\u001b[0m \u001b[0;34m=\u001b[0m \u001b[0mcheck_bool_indexer\u001b[0m\u001b[0;34m(\u001b[0m\u001b[0mself\u001b[0m\u001b[0;34m.\u001b[0m\u001b[0mindex\u001b[0m\u001b[0;34m,\u001b[0m \u001b[0mkey\u001b[0m\u001b[0;34m)\u001b[0m\u001b[0;34m\u001b[0m\u001b[0;34m\u001b[0m\u001b[0m\n\u001b[0m\u001b[1;32m   3039\u001b[0m         \u001b[0mindexer\u001b[0m \u001b[0;34m=\u001b[0m \u001b[0mkey\u001b[0m\u001b[0;34m.\u001b[0m\u001b[0mnonzero\u001b[0m\u001b[0;34m(\u001b[0m\u001b[0;34m)\u001b[0m\u001b[0;34m[\u001b[0m\u001b[0;36m0\u001b[0m\u001b[0;34m]\u001b[0m\u001b[0;34m\u001b[0m\u001b[0;34m\u001b[0m\u001b[0m\n\u001b[1;32m   3040\u001b[0m         \u001b[0;32mreturn\u001b[0m \u001b[0mself\u001b[0m\u001b[0;34m.\u001b[0m\u001b[0mtake\u001b[0m\u001b[0;34m(\u001b[0m\u001b[0mindexer\u001b[0m\u001b[0;34m,\u001b[0m \u001b[0maxis\u001b[0m\u001b[0;34m=\u001b[0m\u001b[0;36m0\u001b[0m\u001b[0;34m)\u001b[0m\u001b[0;34m\u001b[0m\u001b[0;34m\u001b[0m\u001b[0m\n",
      "\u001b[0;32m/opt/anaconda3/lib/python3.7/site-packages/pandas/core/indexing.py\u001b[0m in \u001b[0;36mcheck_bool_indexer\u001b[0;34m(index, key)\u001b[0m\n\u001b[1;32m   2409\u001b[0m         \u001b[0;32mif\u001b[0m \u001b[0mmask\u001b[0m\u001b[0;34m.\u001b[0m\u001b[0many\u001b[0m\u001b[0;34m(\u001b[0m\u001b[0;34m)\u001b[0m\u001b[0;34m:\u001b[0m\u001b[0;34m\u001b[0m\u001b[0;34m\u001b[0m\u001b[0m\n\u001b[1;32m   2410\u001b[0m             raise IndexingError(\n\u001b[0;32m-> 2411\u001b[0;31m                 \u001b[0;34m\"Unalignable boolean Series provided as \"\u001b[0m\u001b[0;34m\u001b[0m\u001b[0;34m\u001b[0m\u001b[0m\n\u001b[0m\u001b[1;32m   2412\u001b[0m                 \u001b[0;34m\"indexer (index of the boolean Series and of \"\u001b[0m\u001b[0;34m\u001b[0m\u001b[0;34m\u001b[0m\u001b[0m\n\u001b[1;32m   2413\u001b[0m                 \u001b[0;34m\"the indexed object do not match).\"\u001b[0m\u001b[0;34m\u001b[0m\u001b[0;34m\u001b[0m\u001b[0m\n",
      "\u001b[0;31mIndexingError\u001b[0m: Unalignable boolean Series provided as indexer (index of the boolean Series and of the indexed object do not match)."
     ]
    }
   ],
   "source": []
  },
  {
   "cell_type": "code",
   "execution_count": 23,
   "metadata": {},
   "outputs": [],
   "source": [
    "#question 3 code to join dataset with product names\n",
    "merged1 = merged.merge(productsdata, on='product_id')\n",
    "merged1.to_csv(\"question3.csv\", index=False)"
   ]
  },
  {
   "cell_type": "code",
   "execution_count": 24,
   "metadata": {
    "scrolled": true
   },
   "outputs": [
    {
     "data": {
      "text/html": [
       "<div>\n",
       "<style scoped>\n",
       "    .dataframe tbody tr th:only-of-type {\n",
       "        vertical-align: middle;\n",
       "    }\n",
       "\n",
       "    .dataframe tbody tr th {\n",
       "        vertical-align: top;\n",
       "    }\n",
       "\n",
       "    .dataframe thead th {\n",
       "        text-align: right;\n",
       "    }\n",
       "</style>\n",
       "<table border=\"1\" class=\"dataframe\">\n",
       "  <thead>\n",
       "    <tr style=\"text-align: right;\">\n",
       "      <th></th>\n",
       "      <th>order_id</th>\n",
       "      <th>metro_id</th>\n",
       "      <th>store_id</th>\n",
       "      <th>customer_id</th>\n",
       "      <th>created_at</th>\n",
       "      <th>product_id</th>\n",
       "      <th>name</th>\n",
       "    </tr>\n",
       "  </thead>\n",
       "  <tbody>\n",
       "    <tr>\n",
       "      <th>0</th>\n",
       "      <td>13571562</td>\n",
       "      <td>1</td>\n",
       "      <td>1</td>\n",
       "      <td>792079</td>\n",
       "      <td>2019-01-02 23:40:32.385831</td>\n",
       "      <td>10519</td>\n",
       "      <td>Stubb's Sticky Sweet BBQ Sauce</td>\n",
       "    </tr>\n",
       "    <tr>\n",
       "      <th>1</th>\n",
       "      <td>13832114</td>\n",
       "      <td>1</td>\n",
       "      <td>1</td>\n",
       "      <td>173225</td>\n",
       "      <td>2019-01-11 04:13:27.542481</td>\n",
       "      <td>10519</td>\n",
       "      <td>Stubb's Sticky Sweet BBQ Sauce</td>\n",
       "    </tr>\n",
       "    <tr>\n",
       "      <th>2</th>\n",
       "      <td>14013191</td>\n",
       "      <td>1</td>\n",
       "      <td>1</td>\n",
       "      <td>66992</td>\n",
       "      <td>2019-01-16 14:28:26.121686</td>\n",
       "      <td>10519</td>\n",
       "      <td>Stubb's Sticky Sweet BBQ Sauce</td>\n",
       "    </tr>\n",
       "    <tr>\n",
       "      <th>3</th>\n",
       "      <td>14454936</td>\n",
       "      <td>1</td>\n",
       "      <td>1</td>\n",
       "      <td>52744</td>\n",
       "      <td>2019-01-28 22:11:03.606890</td>\n",
       "      <td>10519</td>\n",
       "      <td>Stubb's Sticky Sweet BBQ Sauce</td>\n",
       "    </tr>\n",
       "    <tr>\n",
       "      <th>4</th>\n",
       "      <td>13571562</td>\n",
       "      <td>1</td>\n",
       "      <td>1</td>\n",
       "      <td>792079</td>\n",
       "      <td>2019-01-02 23:40:32.385831</td>\n",
       "      <td>16492</td>\n",
       "      <td>Hamburger Buns</td>\n",
       "    </tr>\n",
       "  </tbody>\n",
       "</table>\n",
       "</div>"
      ],
      "text/plain": [
       "   order_id  metro_id  store_id  customer_id                  created_at  \\\n",
       "0  13571562         1         1       792079  2019-01-02 23:40:32.385831   \n",
       "1  13832114         1         1       173225  2019-01-11 04:13:27.542481   \n",
       "2  14013191         1         1        66992  2019-01-16 14:28:26.121686   \n",
       "3  14454936         1         1        52744  2019-01-28 22:11:03.606890   \n",
       "4  13571562         1         1       792079  2019-01-02 23:40:32.385831   \n",
       "\n",
       "   product_id                            name  \n",
       "0       10519  Stubb's Sticky Sweet BBQ Sauce  \n",
       "1       10519  Stubb's Sticky Sweet BBQ Sauce  \n",
       "2       10519  Stubb's Sticky Sweet BBQ Sauce  \n",
       "3       10519  Stubb's Sticky Sweet BBQ Sauce  \n",
       "4       16492                  Hamburger Buns  "
      ]
     },
     "execution_count": 24,
     "metadata": {},
     "output_type": "execute_result"
    }
   ],
   "source": [
    "merged1.head()\n"
   ]
  },
  {
   "cell_type": "code",
   "execution_count": 25,
   "metadata": {},
   "outputs": [
    {
     "data": {
      "text/plain": [
       "Banana                               5929\n",
       "Strawberries                         3040\n",
       "Hass Avocado                         2993\n",
       "2% Reduced Fat Milk                  2068\n",
       "Red Seedless Grapes                  1970\n",
       "Large Grade A Eggs                   1798\n",
       "Whole Milk                           1629\n",
       "Publix 93% Lean Ground Beef          1529\n",
       "Boneless Skinless Chicken Breasts    1494\n",
       "Honey Wheat Bread                    1321\n",
       "Name: name, dtype: int64"
      ]
     },
     "execution_count": 25,
     "metadata": {},
     "output_type": "execute_result"
    }
   ],
   "source": [
    "#you can see top 10 item names here\n",
    "#this is important for question 3 in data understanding part a\n",
    "merged1['name'].value_counts()[0:10]"
   ]
  },
  {
   "cell_type": "code",
   "execution_count": 58,
   "metadata": {},
   "outputs": [
    {
     "data": {
      "text/html": [
       "<div>\n",
       "<style scoped>\n",
       "    .dataframe tbody tr th:only-of-type {\n",
       "        vertical-align: middle;\n",
       "    }\n",
       "\n",
       "    .dataframe tbody tr th {\n",
       "        vertical-align: top;\n",
       "    }\n",
       "\n",
       "    .dataframe thead th {\n",
       "        text-align: right;\n",
       "    }\n",
       "</style>\n",
       "<table border=\"1\" class=\"dataframe\">\n",
       "  <thead>\n",
       "    <tr style=\"text-align: right;\">\n",
       "      <th></th>\n",
       "      <th>product_id</th>\n",
       "    </tr>\n",
       "    <tr>\n",
       "      <th>order_id</th>\n",
       "      <th></th>\n",
       "    </tr>\n",
       "  </thead>\n",
       "  <tbody>\n",
       "    <tr>\n",
       "      <th>13516253</th>\n",
       "      <td>26</td>\n",
       "    </tr>\n",
       "    <tr>\n",
       "      <th>13516305</th>\n",
       "      <td>7</td>\n",
       "    </tr>\n",
       "    <tr>\n",
       "      <th>13516331</th>\n",
       "      <td>9</td>\n",
       "    </tr>\n",
       "    <tr>\n",
       "      <th>13516346</th>\n",
       "      <td>11</td>\n",
       "    </tr>\n",
       "    <tr>\n",
       "      <th>13516380</th>\n",
       "      <td>8</td>\n",
       "    </tr>\n",
       "  </tbody>\n",
       "</table>\n",
       "</div>"
      ],
      "text/plain": [
       "          product_id\n",
       "order_id            \n",
       "13516253          26\n",
       "13516305           7\n",
       "13516331           9\n",
       "13516346          11\n",
       "13516380           8"
      ]
     },
     "execution_count": 58,
     "metadata": {},
     "output_type": "execute_result"
    }
   ],
   "source": [
    "#question 3 part b\n",
    "#group by number of product_ids that are unique\n",
    "getstats=ordersdata1.groupby('order_id')['product_id'].nunique()\n",
    "#getstats=ordersdata1.groupby('order_id').agg({'product_id': lambda x: len(set(x))})\n",
    "getstats.head()"
   ]
  },
  {
   "cell_type": "code",
   "execution_count": 28,
   "metadata": {},
   "outputs": [
    {
     "name": "stderr",
     "output_type": "stream",
     "text": [
      "/opt/anaconda3/lib/python3.7/site-packages/ipykernel_launcher.py:1: FutureWarning: The signature of `Series.to_csv` was aligned to that of `DataFrame.to_csv`, and argument 'header' will change its default value from False to True: please pass an explicit value to suppress this warning.\n",
      "  \"\"\"Entry point for launching an IPython kernel.\n"
     ]
    }
   ],
   "source": [
    "getstats.to_csv(\"getstats.csv\", index=False)"
   ]
  },
  {
   "cell_type": "code",
   "execution_count": 29,
   "metadata": {},
   "outputs": [
    {
     "data": {
      "text/plain": [
       "count    16464.000000\n",
       "mean        18.285471\n",
       "std         10.562312\n",
       "min          1.000000\n",
       "25%         11.000000\n",
       "50%         16.000000\n",
       "75%         23.000000\n",
       "max        127.000000\n",
       "Name: product_id, dtype: float64"
      ]
     },
     "execution_count": 29,
     "metadata": {},
     "output_type": "execute_result"
    }
   ],
   "source": [
    "#this will give all of the data necessary for question 3 part b \n",
    "getstats.describe()"
   ]
  },
  {
   "cell_type": "code",
   "execution_count": 33,
   "metadata": {},
   "outputs": [
    {
     "data": {
      "text/html": [
       "<div>\n",
       "<style scoped>\n",
       "    .dataframe tbody tr th:only-of-type {\n",
       "        vertical-align: middle;\n",
       "    }\n",
       "\n",
       "    .dataframe tbody tr th {\n",
       "        vertical-align: top;\n",
       "    }\n",
       "\n",
       "    .dataframe thead th {\n",
       "        text-align: right;\n",
       "    }\n",
       "</style>\n",
       "<table border=\"1\" class=\"dataframe\">\n",
       "  <thead>\n",
       "    <tr style=\"text-align: right;\">\n",
       "      <th></th>\n",
       "      <th>order_id</th>\n",
       "      <th>metro_id</th>\n",
       "      <th>store_id</th>\n",
       "      <th>customer_id</th>\n",
       "      <th>created_at</th>\n",
       "    </tr>\n",
       "  </thead>\n",
       "  <tbody>\n",
       "    <tr>\n",
       "      <th>4</th>\n",
       "      <td>14208064</td>\n",
       "      <td>20</td>\n",
       "      <td>1</td>\n",
       "      <td>93594</td>\n",
       "      <td>2019-01-21 21:46:26.607809</td>\n",
       "    </tr>\n",
       "    <tr>\n",
       "      <th>19</th>\n",
       "      <td>14364287</td>\n",
       "      <td>20</td>\n",
       "      <td>1</td>\n",
       "      <td>549691</td>\n",
       "      <td>2019-01-26 21:42:56.121338</td>\n",
       "    </tr>\n",
       "    <tr>\n",
       "      <th>36</th>\n",
       "      <td>13846253</td>\n",
       "      <td>20</td>\n",
       "      <td>1</td>\n",
       "      <td>1632766</td>\n",
       "      <td>2019-01-11 18:35:55.123202</td>\n",
       "    </tr>\n",
       "    <tr>\n",
       "      <th>42</th>\n",
       "      <td>14157491</td>\n",
       "      <td>20</td>\n",
       "      <td>1</td>\n",
       "      <td>1260227</td>\n",
       "      <td>2019-01-20 18:39:02.779142</td>\n",
       "    </tr>\n",
       "    <tr>\n",
       "      <th>55</th>\n",
       "      <td>13908958</td>\n",
       "      <td>20</td>\n",
       "      <td>1</td>\n",
       "      <td>755897</td>\n",
       "      <td>2019-01-13 15:41:23.591135</td>\n",
       "    </tr>\n",
       "  </tbody>\n",
       "</table>\n",
       "</div>"
      ],
      "text/plain": [
       "    order_id  metro_id  store_id  customer_id                  created_at\n",
       "4   14208064        20         1        93594  2019-01-21 21:46:26.607809\n",
       "19  14364287        20         1       549691  2019-01-26 21:42:56.121338\n",
       "36  13846253        20         1      1632766  2019-01-11 18:35:55.123202\n",
       "42  14157491        20         1      1260227  2019-01-20 18:39:02.779142\n",
       "55  13908958        20         1       755897  2019-01-13 15:41:23.591135"
      ]
     },
     "execution_count": 33,
     "metadata": {},
     "output_type": "execute_result"
    }
   ],
   "source": [
    "#test to see if part 2 worked by seeing difference from ordersdata\n",
    "ordersdatacopy.head()"
   ]
  },
  {
   "cell_type": "code",
   "execution_count": 69,
   "metadata": {},
   "outputs": [],
   "source": [
    "#starting apriori\n",
    "dataapyrori=merged1.groupby('order_id')"
   ]
  },
  {
   "cell_type": "code",
   "execution_count": 70,
   "metadata": {},
   "outputs": [],
   "source": [
    "#processing data \n",
    "transactions = merged1.groupby('order_id').agg({'name':lambda x: list(x)})"
   ]
  },
  {
   "cell_type": "code",
   "execution_count": 77,
   "metadata": {},
   "outputs": [],
   "source": [
    "#get rules\n",
    "rules = apriori(transactions['name'].tolist(), min_support = 0.003, min_confidence=0.001, min_lift=0.01, max_length = 3)"
   ]
  },
  {
   "cell_type": "code",
   "execution_count": 78,
   "metadata": {},
   "outputs": [],
   "source": [
    "results = list(rules)"
   ]
  },
  {
   "cell_type": "code",
   "execution_count": 79,
   "metadata": {},
   "outputs": [
    {
     "name": "stdout",
     "output_type": "stream",
     "text": [
      "4050\n"
     ]
    }
   ],
   "source": [
    "#get length I was not able to get to 15000 because it was not computing fast enough\n",
    "print(len(results))"
   ]
  },
  {
   "cell_type": "code",
   "execution_count": 80,
   "metadata": {},
   "outputs": [
    {
     "data": {
      "text/plain": [
       "[OrderedStatistic(items_base=frozenset(), items_add=frozenset({'Strawberries', 'Red Seedless Grapes', 'Zucchini Squash'}), confidence=0.004312439261418853, lift=1.0),\n",
       " OrderedStatistic(items_base=frozenset({'Red Seedless Grapes'}), items_add=frozenset({'Strawberries', 'Zucchini Squash'}), confidence=0.03604060913705583, lift=2.412083694441005),\n",
       " OrderedStatistic(items_base=frozenset({'Strawberries'}), items_add=frozenset({'Red Seedless Grapes', 'Zucchini Squash'}), confidence=0.023355263157894737, lift=2.3025212732429874),\n",
       " OrderedStatistic(items_base=frozenset({'Zucchini Squash'}), items_add=frozenset({'Strawberries', 'Red Seedless Grapes'}), confidence=0.07244897959183673, lift=1.7697329376854598),\n",
       " OrderedStatistic(items_base=frozenset({'Strawberries', 'Red Seedless Grapes'}), items_add=frozenset({'Zucchini Squash'}), confidence=0.10534124629080117, lift=1.7697329376854598),\n",
       " OrderedStatistic(items_base=frozenset({'Red Seedless Grapes', 'Zucchini Squash'}), items_add=frozenset({'Strawberries'}), confidence=0.42514970059880236, lift=2.302521273242988),\n",
       " OrderedStatistic(items_base=frozenset({'Strawberries', 'Zucchini Squash'}), items_add=frozenset({'Red Seedless Grapes'}), confidence=0.2886178861788618, lift=2.4120836944410056)]"
      ]
     },
     "execution_count": 80,
     "metadata": {},
     "output_type": "execute_result"
    }
   ],
   "source": [
    "#testing for item sets\n",
    "results[-1].ordered_statistics"
   ]
  },
  {
   "cell_type": "code",
   "execution_count": 81,
   "metadata": {},
   "outputs": [
    {
     "name": "stdout",
     "output_type": "stream",
     "text": [
      "12848\n"
     ]
    }
   ],
   "source": [
    "# once we have the statistics and rules we use the following code to visualize the data\n",
    "df = pd.DataFrame(columns=('order_id','name','Consequent','Support','Confidence','Lift'))\n",
    "\n",
    "Support =[]\n",
    "Confidence = []\n",
    "Lift = []\n",
    "Items = []\n",
    "Antecedent = []\n",
    "Consequent=[]\n",
    "\n",
    "counter = 0\n",
    "for RelationRecord in results:\n",
    "    for ordered_stat in RelationRecord.ordered_statistics:\n",
    "        Support.append(RelationRecord.support)\n",
    "        Items.append(RelationRecord.items)\n",
    "        Antecedent.append(ordered_stat.items_base)\n",
    "        Consequent.append(ordered_stat.items_add)\n",
    "        Confidence.append(ordered_stat.confidence)\n",
    "        Lift.append(ordered_stat.lift)\n",
    "        counter += 1\n",
    "print(counter)\n",
    "\n",
    "df['Items'] = list(map(set, Items))                                   \n",
    "df['Antecedent'] = list(map(set, Antecedent))\n",
    "df['Consequent'] = list(map(set, Consequent))\n",
    "df['Support'] = Support\n",
    "df['Confidence'] = Confidence\n",
    "df['Lift']= Lift"
   ]
  },
  {
   "cell_type": "code",
   "execution_count": 82,
   "metadata": {},
   "outputs": [],
   "source": [
    "#find highest support items\n",
    "df.sort_values(by ='Support', ascending = False, inplace = True)"
   ]
  },
  {
   "cell_type": "code",
   "execution_count": 83,
   "metadata": {},
   "outputs": [
    {
     "data": {
      "text/html": [
       "<div>\n",
       "<style scoped>\n",
       "    .dataframe tbody tr th:only-of-type {\n",
       "        vertical-align: middle;\n",
       "    }\n",
       "\n",
       "    .dataframe tbody tr th {\n",
       "        vertical-align: top;\n",
       "    }\n",
       "\n",
       "    .dataframe thead th {\n",
       "        text-align: right;\n",
       "    }\n",
       "</style>\n",
       "<table border=\"1\" class=\"dataframe\">\n",
       "  <thead>\n",
       "    <tr style=\"text-align: right;\">\n",
       "      <th></th>\n",
       "      <th>order_id</th>\n",
       "      <th>name</th>\n",
       "      <th>Consequent</th>\n",
       "      <th>Support</th>\n",
       "      <th>Confidence</th>\n",
       "      <th>Lift</th>\n",
       "      <th>Items</th>\n",
       "      <th>Antecedent</th>\n",
       "    </tr>\n",
       "  </thead>\n",
       "  <tbody>\n",
       "    <tr>\n",
       "      <th>86</th>\n",
       "      <td>NaN</td>\n",
       "      <td>NaN</td>\n",
       "      <td>{Banana}</td>\n",
       "      <td>0.360119</td>\n",
       "      <td>0.360119</td>\n",
       "      <td>1.000000</td>\n",
       "      <td>{Banana}</td>\n",
       "      <td>{}</td>\n",
       "    </tr>\n",
       "    <tr>\n",
       "      <th>1033</th>\n",
       "      <td>NaN</td>\n",
       "      <td>NaN</td>\n",
       "      <td>{Strawberries}</td>\n",
       "      <td>0.184645</td>\n",
       "      <td>0.184645</td>\n",
       "      <td>1.000000</td>\n",
       "      <td>{Strawberries}</td>\n",
       "      <td>{}</td>\n",
       "    </tr>\n",
       "    <tr>\n",
       "      <th>478</th>\n",
       "      <td>NaN</td>\n",
       "      <td>NaN</td>\n",
       "      <td>{Hass Avocado}</td>\n",
       "      <td>0.181791</td>\n",
       "      <td>0.181791</td>\n",
       "      <td>1.000000</td>\n",
       "      <td>{Hass Avocado}</td>\n",
       "      <td>{}</td>\n",
       "    </tr>\n",
       "    <tr>\n",
       "      <th>24</th>\n",
       "      <td>NaN</td>\n",
       "      <td>NaN</td>\n",
       "      <td>{2% Reduced Fat Milk}</td>\n",
       "      <td>0.124271</td>\n",
       "      <td>0.124271</td>\n",
       "      <td>1.000000</td>\n",
       "      <td>{2% Reduced Fat Milk}</td>\n",
       "      <td>{}</td>\n",
       "    </tr>\n",
       "    <tr>\n",
       "      <th>879</th>\n",
       "      <td>NaN</td>\n",
       "      <td>NaN</td>\n",
       "      <td>{Red Seedless Grapes}</td>\n",
       "      <td>0.119655</td>\n",
       "      <td>0.119655</td>\n",
       "      <td>1.000000</td>\n",
       "      <td>{Red Seedless Grapes}</td>\n",
       "      <td>{}</td>\n",
       "    </tr>\n",
       "    <tr>\n",
       "      <th>539</th>\n",
       "      <td>NaN</td>\n",
       "      <td>NaN</td>\n",
       "      <td>{Large Grade A Eggs}</td>\n",
       "      <td>0.108601</td>\n",
       "      <td>0.108601</td>\n",
       "      <td>1.000000</td>\n",
       "      <td>{Large Grade A Eggs}</td>\n",
       "      <td>{}</td>\n",
       "    </tr>\n",
       "    <tr>\n",
       "      <th>1164</th>\n",
       "      <td>NaN</td>\n",
       "      <td>NaN</td>\n",
       "      <td>{Whole Milk}</td>\n",
       "      <td>0.097182</td>\n",
       "      <td>0.097182</td>\n",
       "      <td>1.000000</td>\n",
       "      <td>{Whole Milk}</td>\n",
       "      <td>{}</td>\n",
       "    </tr>\n",
       "    <tr>\n",
       "      <th>3097</th>\n",
       "      <td>NaN</td>\n",
       "      <td>NaN</td>\n",
       "      <td>{Banana, Strawberries}</td>\n",
       "      <td>0.096939</td>\n",
       "      <td>0.096939</td>\n",
       "      <td>1.000000</td>\n",
       "      <td>{Banana, Strawberries}</td>\n",
       "      <td>{}</td>\n",
       "    </tr>\n",
       "    <tr>\n",
       "      <th>3098</th>\n",
       "      <td>NaN</td>\n",
       "      <td>NaN</td>\n",
       "      <td>{Strawberries}</td>\n",
       "      <td>0.096939</td>\n",
       "      <td>0.269185</td>\n",
       "      <td>1.457851</td>\n",
       "      <td>{Banana, Strawberries}</td>\n",
       "      <td>{Banana}</td>\n",
       "    </tr>\n",
       "    <tr>\n",
       "      <th>3099</th>\n",
       "      <td>NaN</td>\n",
       "      <td>NaN</td>\n",
       "      <td>{Banana}</td>\n",
       "      <td>0.096939</td>\n",
       "      <td>0.525000</td>\n",
       "      <td>1.457851</td>\n",
       "      <td>{Banana, Strawberries}</td>\n",
       "      <td>{Strawberries}</td>\n",
       "    </tr>\n",
       "    <tr>\n",
       "      <th>834</th>\n",
       "      <td>NaN</td>\n",
       "      <td>NaN</td>\n",
       "      <td>{Publix 93% Lean Ground Beef}</td>\n",
       "      <td>0.092869</td>\n",
       "      <td>0.092869</td>\n",
       "      <td>1.000000</td>\n",
       "      <td>{Publix 93% Lean Ground Beef}</td>\n",
       "      <td>{}</td>\n",
       "    </tr>\n",
       "    <tr>\n",
       "      <th>128</th>\n",
       "      <td>NaN</td>\n",
       "      <td>NaN</td>\n",
       "      <td>{Boneless Skinless Chicken Breasts}</td>\n",
       "      <td>0.090743</td>\n",
       "      <td>0.090743</td>\n",
       "      <td>1.000000</td>\n",
       "      <td>{Boneless Skinless Chicken Breasts}</td>\n",
       "      <td>{}</td>\n",
       "    </tr>\n",
       "    <tr>\n",
       "      <th>2418</th>\n",
       "      <td>NaN</td>\n",
       "      <td>NaN</td>\n",
       "      <td>{Banana}</td>\n",
       "      <td>0.089589</td>\n",
       "      <td>0.492817</td>\n",
       "      <td>1.368482</td>\n",
       "      <td>{Banana, Hass Avocado}</td>\n",
       "      <td>{Hass Avocado}</td>\n",
       "    </tr>\n",
       "    <tr>\n",
       "      <th>2417</th>\n",
       "      <td>NaN</td>\n",
       "      <td>NaN</td>\n",
       "      <td>{Hass Avocado}</td>\n",
       "      <td>0.089589</td>\n",
       "      <td>0.248777</td>\n",
       "      <td>1.368482</td>\n",
       "      <td>{Banana, Hass Avocado}</td>\n",
       "      <td>{Banana}</td>\n",
       "    </tr>\n",
       "    <tr>\n",
       "      <th>2416</th>\n",
       "      <td>NaN</td>\n",
       "      <td>NaN</td>\n",
       "      <td>{Banana, Hass Avocado}</td>\n",
       "      <td>0.089589</td>\n",
       "      <td>0.089589</td>\n",
       "      <td>1.000000</td>\n",
       "      <td>{Banana, Hass Avocado}</td>\n",
       "      <td>{}</td>\n",
       "    </tr>\n",
       "  </tbody>\n",
       "</table>\n",
       "</div>"
      ],
      "text/plain": [
       "     order_id name                           Consequent   Support  Confidence  \\\n",
       "86        NaN  NaN                             {Banana}  0.360119    0.360119   \n",
       "1033      NaN  NaN                       {Strawberries}  0.184645    0.184645   \n",
       "478       NaN  NaN                       {Hass Avocado}  0.181791    0.181791   \n",
       "24        NaN  NaN                {2% Reduced Fat Milk}  0.124271    0.124271   \n",
       "879       NaN  NaN                {Red Seedless Grapes}  0.119655    0.119655   \n",
       "539       NaN  NaN                 {Large Grade A Eggs}  0.108601    0.108601   \n",
       "1164      NaN  NaN                         {Whole Milk}  0.097182    0.097182   \n",
       "3097      NaN  NaN               {Banana, Strawberries}  0.096939    0.096939   \n",
       "3098      NaN  NaN                       {Strawberries}  0.096939    0.269185   \n",
       "3099      NaN  NaN                             {Banana}  0.096939    0.525000   \n",
       "834       NaN  NaN        {Publix 93% Lean Ground Beef}  0.092869    0.092869   \n",
       "128       NaN  NaN  {Boneless Skinless Chicken Breasts}  0.090743    0.090743   \n",
       "2418      NaN  NaN                             {Banana}  0.089589    0.492817   \n",
       "2417      NaN  NaN                       {Hass Avocado}  0.089589    0.248777   \n",
       "2416      NaN  NaN               {Banana, Hass Avocado}  0.089589    0.089589   \n",
       "\n",
       "          Lift                                Items      Antecedent  \n",
       "86    1.000000                             {Banana}              {}  \n",
       "1033  1.000000                       {Strawberries}              {}  \n",
       "478   1.000000                       {Hass Avocado}              {}  \n",
       "24    1.000000                {2% Reduced Fat Milk}              {}  \n",
       "879   1.000000                {Red Seedless Grapes}              {}  \n",
       "539   1.000000                 {Large Grade A Eggs}              {}  \n",
       "1164  1.000000                         {Whole Milk}              {}  \n",
       "3097  1.000000               {Banana, Strawberries}              {}  \n",
       "3098  1.457851               {Banana, Strawberries}        {Banana}  \n",
       "3099  1.457851               {Banana, Strawberries}  {Strawberries}  \n",
       "834   1.000000        {Publix 93% Lean Ground Beef}              {}  \n",
       "128   1.000000  {Boneless Skinless Chicken Breasts}              {}  \n",
       "2418  1.368482               {Banana, Hass Avocado}  {Hass Avocado}  \n",
       "2417  1.368482               {Banana, Hass Avocado}        {Banana}  \n",
       "2416  1.000000               {Banana, Hass Avocado}              {}  "
      ]
     },
     "execution_count": 83,
     "metadata": {},
     "output_type": "execute_result"
    }
   ],
   "source": [
    "#visualize the support data to find items\n",
    "df.head(15)"
   ]
  },
  {
   "cell_type": "code",
   "execution_count": 84,
   "metadata": {},
   "outputs": [
    {
     "data": {
      "text/plain": [
       "12848"
      ]
     },
     "execution_count": 84,
     "metadata": {},
     "output_type": "execute_result"
    }
   ],
   "source": [
    "len(df)"
   ]
  },
  {
   "cell_type": "code",
   "execution_count": 89,
   "metadata": {},
   "outputs": [
    {
     "name": "stdout",
     "output_type": "stream",
     "text": [
      "1189\n"
     ]
    }
   ],
   "source": [
    "#change this to find item sets of certain length\n",
    "print(len(df[df['Items'].apply(lambda x: len(x)==1)]))"
   ]
  }
 ],
 "metadata": {
  "kernelspec": {
   "display_name": "Python 3",
   "language": "python",
   "name": "python3"
  },
  "language_info": {
   "codemirror_mode": {
    "name": "ipython",
    "version": 3
   },
   "file_extension": ".py",
   "mimetype": "text/x-python",
   "name": "python",
   "nbconvert_exporter": "python",
   "pygments_lexer": "ipython3",
   "version": "3.7.6"
  }
 },
 "nbformat": 4,
 "nbformat_minor": 2
}
